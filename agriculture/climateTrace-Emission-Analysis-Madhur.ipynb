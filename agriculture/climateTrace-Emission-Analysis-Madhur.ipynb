{
 "cells": [
  {
   "cell_type": "code",
   "execution_count": 18,
   "metadata": {},
   "outputs": [
    {
     "name": "stdout",
     "output_type": "stream",
     "text": [
      "Num GPUs Available:  1\n"
     ]
    },
    {
     "name": "stderr",
     "output_type": "stream",
     "text": [
      "/tmp/ipykernel_105179/4178179393.py:63: DeprecationWarning: Importing display from IPython.core.display is deprecated since IPython 7.14, please import from IPython display\n",
      "  from IPython.core.display import display, HTML\n"
     ]
    },
    {
     "data": {
      "text/html": [
       "<style>.container { width:98% !important; }</style>"
      ],
      "text/plain": [
       "<IPython.core.display.HTML object>"
      ]
     },
     "metadata": {},
     "output_type": "display_data"
    }
   ],
   "source": [
    "### local conda venv - gis_ml\n",
    "\n",
    "import itertools as itools\n",
    "\n",
    "import pandas as pd\n",
    "import numpy as np\n",
    "import pathlib\n",
    "\n",
    "import geopandas as gpd\n",
    "import geopandas as pdg\n",
    "import shapely.geometry as shpy\n",
    "\n",
    "import rasterio as rio\n",
    "import rasterio.plot\n",
    "\n",
    "import rasterio.plot as rioplot\n",
    "import fiona \n",
    "from rasterio.mask import mask as riomask\n",
    "from rasterio import warp as riowrap\n",
    "from rasterio.warp import reproject as rioReproject\n",
    "from patchify import patchify\n",
    "\n",
    "import keras.layers as klyr\n",
    "import keras.models as kmodel\n",
    "import keras.backend as kerasb\n",
    "\n",
    "import math, os\n",
    "import random\n",
    "\n",
    "import json\n",
    "\n",
    "import matplotlib.pyplot as plt\n",
    "plt.style.use( style= 'dark_background' )\n",
    "\n",
    "import sklearn\n",
    "import sklearn.preprocessing as skPreprocess\n",
    "from sklearn import model_selection\n",
    "# import contextily\n",
    "\n",
    "import keras\n",
    "import tensorflow as tf\n",
    "print(  'Num GPUs Available: ', len( tf.config.list_physical_devices('GPU') )  )\n",
    "\n",
    "from keras import layers as klyr\n",
    "import cv2\n",
    "import PIL as pil\n",
    "\n",
    "import os\n",
    "os.environ[ 'SM_FRAMEWORK' ] = 'tf.keras'\n",
    "import glob\n",
    "\n",
    "import segmentation_models as seg_model\n",
    "\n",
    "from pprint import pprint\n",
    "\n",
    "%matplotlib inline\n",
    "np.random.seed(1)\n",
    "\n",
    "import wandb\n",
    "from wandb.keras import WandbCallback as wb_Callback\n",
    "\n",
    "\n",
    "from IPython.core.display import display, HTML\n",
    "display(  HTML( '<style>.container { width:98% !important; }</style>' )  )\n",
    "\n",
    "%config Completer.use_jedi = False\n",
    "\n",
    "DIR_dataset = r'E:\\Projects\\climateTrace\\dataset_usa'\n",
    "DIR_dataset = r'/mnt/e/Projects/climateTrace/dataset_usa'\n"
   ]
  },
  {
   "cell_type": "markdown",
   "metadata": {},
   "source": [
    "##### data"
   ]
  },
  {
   "cell_type": "code",
   "execution_count": 20,
   "metadata": {},
   "outputs": [
    {
     "data": {
      "text/plain": [
       "['/mnt/e/Projects/climateTrace/dataset_usa/agriculture/',\n",
       " '/mnt/e/Projects/climateTrace/dataset_usa/buildings/',\n",
       " '/mnt/e/Projects/climateTrace/dataset_usa/fluorinated_gases/',\n",
       " '/mnt/e/Projects/climateTrace/dataset_usa/forestry_and_land_use/',\n",
       " '/mnt/e/Projects/climateTrace/dataset_usa/fossil_fuel_operations/',\n",
       " '/mnt/e/Projects/climateTrace/dataset_usa/manufacturing/',\n",
       " '/mnt/e/Projects/climateTrace/dataset_usa/mineral_extraction/',\n",
       " '/mnt/e/Projects/climateTrace/dataset_usa/power/',\n",
       " '/mnt/e/Projects/climateTrace/dataset_usa/transportation/',\n",
       " '/mnt/e/Projects/climateTrace/dataset_usa/waste/']"
      ]
     },
     "execution_count": 20,
     "metadata": {},
     "output_type": "execute_result"
    }
   ],
   "source": [
    "dir_ls = glob.glob(  os.path.join( DIR_dataset, '**/' ), recursive= True  )[1:]  ## [1:]  to avoid the very root dir\n",
    "dir_ls"
   ]
  },
  {
   "cell_type": "code",
   "execution_count": 29,
   "metadata": {},
   "outputs": [
    {
     "data": {
      "text/plain": [
       "['agriculture',\n",
       " 'buildings',\n",
       " 'fluorinated_gases',\n",
       " 'forestry_and_land_use',\n",
       " 'fossil_fuel_operations',\n",
       " 'manufacturing',\n",
       " 'mineral_extraction',\n",
       " 'power',\n",
       " 'transportation',\n",
       " 'waste']"
      ]
     },
     "execution_count": 29,
     "metadata": {},
     "output_type": "execute_result"
    }
   ],
   "source": [
    "sector_ls = [   os.path.basename( os.path.normpath(eDir) ) for eDir in dir_ls  ]\n",
    "sector_ls"
   ]
  },
  {
   "cell_type": "code",
   "execution_count": 26,
   "metadata": {},
   "outputs": [
    {
     "data": {
      "text/plain": [
       "'/mnt/e/Projects/climateTrace/dataset_usa/agriculture'"
      ]
     },
     "execution_count": 26,
     "metadata": {},
     "output_type": "execute_result"
    }
   ],
   "source": [
    "dir_ls[]"
   ]
  },
  {
   "cell_type": "code",
   "execution_count": 12,
   "metadata": {},
   "outputs": [
    {
     "data": {
      "text/plain": [
       "'/mnt/e/Geospatial-courses/notebooks'"
      ]
     },
     "execution_count": 12,
     "metadata": {},
     "output_type": "execute_result"
    }
   ],
   "source": [
    "# pd.read_csv(  os.path.join( DIR_dataset, 'Data-transaction-log.csv' )  )\n",
    "\n",
    "os.getcwd()\n"
   ]
  },
  {
   "cell_type": "code",
   "execution_count": null,
   "metadata": {},
   "outputs": [],
   "source": []
  },
  {
   "cell_type": "code",
   "execution_count": null,
   "metadata": {},
   "outputs": [],
   "source": []
  },
  {
   "cell_type": "code",
   "execution_count": null,
   "metadata": {},
   "outputs": [],
   "source": []
  },
  {
   "cell_type": "code",
   "execution_count": null,
   "metadata": {},
   "outputs": [],
   "source": []
  },
  {
   "cell_type": "code",
   "execution_count": null,
   "metadata": {},
   "outputs": [],
   "source": []
  }
 ],
 "metadata": {
  "kernelspec": {
   "display_name": "gis_ml",
   "language": "python",
   "name": "python3"
  },
  "language_info": {
   "codemirror_mode": {
    "name": "ipython",
    "version": 3
   },
   "file_extension": ".py",
   "mimetype": "text/x-python",
   "name": "python",
   "nbconvert_exporter": "python",
   "pygments_lexer": "ipython3",
   "version": "3.10.12"
  }
 },
 "nbformat": 4,
 "nbformat_minor": 2
}
